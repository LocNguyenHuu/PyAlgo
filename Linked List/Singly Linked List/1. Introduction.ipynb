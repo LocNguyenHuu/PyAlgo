{
 "metadata": {
  "language_info": {
   "codemirror_mode": {
    "name": "ipython",
    "version": 3
   },
   "file_extension": ".py",
   "mimetype": "text/x-python",
   "name": "python",
   "nbconvert_exporter": "python",
   "pygments_lexer": "ipython3",
   "version": "3.9.4"
  },
  "orig_nbformat": 2,
  "kernelspec": {
   "name": "python394jvsc74a57bd00ca36fe2736109c8d57dfcfe229d1e2b66b90d0c89f94993cff50f4203ab1f46",
   "display_name": "Python 3.9.4 64-bit ('101_env': conda)"
  }
 },
 "nbformat": 4,
 "nbformat_minor": 2,
 "cells": [
  {
   "source": [
    "# Linked List | Set 1 (Introduction)\n",
    "Like arrays, Linked List is a linear data structure. Unlike arrays, linked list elements are not stored at a contiguous location; the elements are linked using pointers.\n",
    "[![](https://media.geeksforgeeks.org/wp-content/cdn-uploads/gq/2013/03/Linkedlist.png)](https://media.geeksforgeeks.org/wp-content/cdn-uploads/gq/2013/03/Linkedlist.png)\n",
    "\n",
    "<h1>Why Linked List?</h1>\n",
    "Arrays can be used to store linear data of similar types, but arrays have the following limitations.\n",
    "1) The size of the arrays is fixed: So we must know the upper limit on the number of elements in advance. Also, generally, the allocated memory is equal to the upper limit irrespective of the usage.\n",
    "2) Inserting a new element in an array of elements is expensive because the room has to be created for the new elements and to create room existing elements have to be shifted.\n",
    "\n",
    "For example, in a system, if we maintain a sorted list of IDs in an array id[].\n",
    "\n",
    "id[] = [1000, 1010, 1050, 2000, 2040]."
   ],
   "cell_type": "markdown",
   "metadata": {}
  },
  {
   "cell_type": "code",
   "execution_count": 5,
   "metadata": {},
   "outputs": [
    {
     "output_type": "stream",
     "name": "stdout",
     "text": [
      "1\n2\n3\n"
     ]
    }
   ],
   "source": [
    "# Node class\n",
    "class Node:\n",
    "    # Function to initialize the node object\n",
    "    def __init__(self, data):\n",
    "        self.data = data # Assign data\n",
    "        self.next = None # Next as null\n",
    "\n",
    "class LinkedList:\n",
    "    # Function to initialize the Linked List\n",
    "    def __init__(self):\n",
    "        self.head = None\n",
    "\n",
    "    def print_list(self):\n",
    "        tmp = self.head\n",
    "        while(tmp):\n",
    "            print(tmp.data)\n",
    "            tmp = tmp.next\n",
    "\n",
    "if __name__ == '__main__':\n",
    "    # Start with empty list\n",
    "    llist = LinkedList()\n",
    "\n",
    "    llist.head = Node(1)\n",
    "    second = Node(2)\n",
    "    third = Node(3)\n",
    "\n",
    "    llist.head.next = second\n",
    "    second.next = third\n",
    "    third.next = None\n",
    "\n",
    "    llist.print_list()"
   ]
  }
 ]
}