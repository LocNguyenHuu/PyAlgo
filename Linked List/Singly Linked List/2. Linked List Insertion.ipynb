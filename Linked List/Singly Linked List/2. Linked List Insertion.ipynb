{
 "metadata": {
  "language_info": {
   "codemirror_mode": {
    "name": "ipython",
    "version": 3
   },
   "file_extension": ".py",
   "mimetype": "text/x-python",
   "name": "python",
   "nbconvert_exporter": "python",
   "pygments_lexer": "ipython3",
   "version": "3.9.4"
  },
  "orig_nbformat": 2,
  "kernelspec": {
   "name": "python394jvsc74a57bd00ca36fe2736109c8d57dfcfe229d1e2b66b90d0c89f94993cff50f4203ab1f46",
   "display_name": "Python 3.9.4 64-bit ('101_env': conda)"
  }
 },
 "nbformat": 4,
 "nbformat_minor": 2,
 "cells": [
  {
   "cell_type": "code",
   "execution_count": 29,
   "metadata": {},
   "outputs": [],
   "source": [
    "class Node:\n",
    "    def __init__(self, data):\n",
    "        self.data = data\n",
    "        self.next = None"
   ]
  },
  {
   "cell_type": "code",
   "execution_count": 30,
   "metadata": {},
   "outputs": [],
   "source": [
    "class LinkedList:\n",
    "    def __init__(self):\n",
    "        self.head = None\n",
    "\n",
    "    # Function to insert a new node at the beginning\n",
    "    def push(self, new_data):\n",
    "        # Step 1: Allocate a new node\n",
    "        # Step 2: Put in the data\n",
    "        new_node = Node(new_data)\n",
    "\n",
    "        # Step 3: Make next of new Node as head\n",
    "        new_node.next = self.head\n",
    "\n",
    "        # Step 4: Move the head to point to new Node\n",
    "        self.head = new_node\n",
    "\n",
    "    # Function to insert a new node after the given prev_node\n",
    "    def insert_after(self, prev_node, new_data):\n",
    "        # Step 1: Check if prev_node is exists\n",
    "        if prev_node is None:\n",
    "            print('The given prev_node must in Linked List.')\n",
    "            return\n",
    "        \n",
    "        # Step 2: Allocate a new node\n",
    "        # Step 3: Put in the data\n",
    "        new_node = Node(new_data)\n",
    "\n",
    "        # Step 4: Make next of new node as next of prev node\n",
    "        new_node.next = prev_node.next\n",
    "\n",
    "        # Step 5: Make next of prev node as new node\n",
    "        prev_node.next = new_node\n",
    "\n",
    "    # Function to append (insert) a new node at the end of Linked List.\n",
    "    def append(self, new_data):\n",
    "        # Step 1: Allocate a new node\n",
    "        # Step 2: Put in the data (initialize value so new_node has next is None)\n",
    "        new_node = Node(new_data)\n",
    "\n",
    "        # Step 3: Check Linked List is empty\n",
    "        if self.head is None:\n",
    "            self.head = new_node\n",
    "            return\n",
    "\n",
    "        # Step 4: Traverse till the last node\n",
    "        last = self.head\n",
    "        while (last.next):\n",
    "            last = last.next\n",
    "        \n",
    "        # Step 5: Change the next of last node\n",
    "        last.next = new_node\n",
    "    \n",
    "    def print_list(self):\n",
    "        tracing = self.head\n",
    "        while(tracing):\n",
    "            print(tracing.data)\n",
    "            tracing = tracing.next"
   ]
  },
  {
   "cell_type": "code",
   "execution_count": 33,
   "metadata": {},
   "outputs": [
    {
     "output_type": "stream",
     "name": "stdout",
     "text": [
      "1\n7\n8\n6\n4\n"
     ]
    }
   ],
   "source": [
    "if __name__ == '__main__':\n",
    "    # Start with the empty list\n",
    "    llist = LinkedList()\n",
    " \n",
    "    # Insert 6.  So linked list becomes 6->None\n",
    "    llist.append(6)\n",
    " \n",
    "    # Insert 7 at the beginning. So linked list becomes 7->6->None\n",
    "    llist.push(7)\n",
    " \n",
    "    # Insert 1 at the beginning. So linked list becomes 1->7->6->None\n",
    "    llist.push(1)\n",
    " \n",
    "    # Insert 4 at the end. So linked list becomes 1->7->6->4->None\n",
    "    llist.append(4)\n",
    " \n",
    "    # Insert 8, after 7. So linked list becomes 1 -> 7-> 8-> 6-> 4-> None\n",
    "    llist.insert_after(llist.head.next, 8)\n",
    "\n",
    "    llist.print_list()\n"
   ]
  }
 ]
}